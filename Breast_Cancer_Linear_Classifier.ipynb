{
  "nbformat": 4,
  "nbformat_minor": 0,
  "metadata": {
    "colab": {
      "name": "Breast Cancer Linear Classifier.ipynb",
      "provenance": [],
      "authorship_tag": "ABX9TyOCCZvpx07yXPBIMNLdMU1Z",
      "include_colab_link": true
    },
    "kernelspec": {
      "name": "python3",
      "display_name": "Python 3"
    },
    "language_info": {
      "name": "python"
    }
  },
  "cells": [
    {
      "cell_type": "markdown",
      "metadata": {
        "id": "view-in-github",
        "colab_type": "text"
      },
      "source": [
        "<a href=\"https://colab.research.google.com/github/raihankhan-rk/Breast-Cancer-Linear-Classifier/blob/main/Breast_Cancer_Linear_Classifier.ipynb\" target=\"_parent\"><img src=\"https://colab.research.google.com/assets/colab-badge.svg\" alt=\"Open In Colab\"/></a>"
      ]
    },
    {
      "cell_type": "code",
      "execution_count": null,
      "metadata": {
        "colab": {
          "base_uri": "https://localhost:8080/"
        },
        "id": "HhNxKDdh5rMo",
        "outputId": "e2a5de37-7a2c-478e-c781-7074ffbbd389"
      },
      "outputs": [
        {
          "output_type": "stream",
          "name": "stdout",
          "text": [
            "2.8.2\n"
          ]
        }
      ],
      "source": [
        "import tensorflow as tf\n",
        "print(tf.__version__)"
      ]
    },
    {
      "cell_type": "code",
      "source": [
        "from sklearn.datasets import load_breast_cancer"
      ],
      "metadata": {
        "id": "MCsJuFB65zAm"
      },
      "execution_count": null,
      "outputs": []
    },
    {
      "cell_type": "code",
      "source": [
        "data = load_breast_cancer()"
      ],
      "metadata": {
        "id": "YvqsknWvGz01"
      },
      "execution_count": null,
      "outputs": []
    },
    {
      "cell_type": "code",
      "source": [
        "type(data)"
      ],
      "metadata": {
        "colab": {
          "base_uri": "https://localhost:8080/"
        },
        "id": "d1wddQFfG2rK",
        "outputId": "e9fdd5b0-0133-40eb-fd76-f17a06e6d702"
      },
      "execution_count": null,
      "outputs": [
        {
          "output_type": "execute_result",
          "data": {
            "text/plain": [
              "sklearn.utils.Bunch"
            ]
          },
          "metadata": {},
          "execution_count": 6
        }
      ]
    },
    {
      "cell_type": "code",
      "source": [
        "data.data.shape"
      ],
      "metadata": {
        "colab": {
          "base_uri": "https://localhost:8080/"
        },
        "id": "sJ8AfI02G4BF",
        "outputId": "75d3c999-7058-4626-c72b-895e94d418cb"
      },
      "execution_count": null,
      "outputs": [
        {
          "output_type": "execute_result",
          "data": {
            "text/plain": [
              "(569, 30)"
            ]
          },
          "metadata": {},
          "execution_count": 9
        }
      ]
    },
    {
      "cell_type": "code",
      "source": [
        "data.target"
      ],
      "metadata": {
        "colab": {
          "base_uri": "https://localhost:8080/"
        },
        "id": "_A1q5-aFHFNR",
        "outputId": "81f10319-dbd0-48fb-81c0-3bc63dbea564"
      },
      "execution_count": null,
      "outputs": [
        {
          "output_type": "execute_result",
          "data": {
            "text/plain": [
              "array([0, 0, 0, 0, 0, 0, 0, 0, 0, 0, 0, 0, 0, 0, 0, 0, 0, 0, 0, 1, 1, 1,\n",
              "       0, 0, 0, 0, 0, 0, 0, 0, 0, 0, 0, 0, 0, 0, 0, 1, 0, 0, 0, 0, 0, 0,\n",
              "       0, 0, 1, 0, 1, 1, 1, 1, 1, 0, 0, 1, 0, 0, 1, 1, 1, 1, 0, 1, 0, 0,\n",
              "       1, 1, 1, 1, 0, 1, 0, 0, 1, 0, 1, 0, 0, 1, 1, 1, 0, 0, 1, 0, 0, 0,\n",
              "       1, 1, 1, 0, 1, 1, 0, 0, 1, 1, 1, 0, 0, 1, 1, 1, 1, 0, 1, 1, 0, 1,\n",
              "       1, 1, 1, 1, 1, 1, 1, 0, 0, 0, 1, 0, 0, 1, 1, 1, 0, 0, 1, 0, 1, 0,\n",
              "       0, 1, 0, 0, 1, 1, 0, 1, 1, 0, 1, 1, 1, 1, 0, 1, 1, 1, 1, 1, 1, 1,\n",
              "       1, 1, 0, 1, 1, 1, 1, 0, 0, 1, 0, 1, 1, 0, 0, 1, 1, 0, 0, 1, 1, 1,\n",
              "       1, 0, 1, 1, 0, 0, 0, 1, 0, 1, 0, 1, 1, 1, 0, 1, 1, 0, 0, 1, 0, 0,\n",
              "       0, 0, 1, 0, 0, 0, 1, 0, 1, 0, 1, 1, 0, 1, 0, 0, 0, 0, 1, 1, 0, 0,\n",
              "       1, 1, 1, 0, 1, 1, 1, 1, 1, 0, 0, 1, 1, 0, 1, 1, 0, 0, 1, 0, 1, 1,\n",
              "       1, 1, 0, 1, 1, 1, 1, 1, 0, 1, 0, 0, 0, 0, 0, 0, 0, 0, 0, 0, 0, 0,\n",
              "       0, 0, 1, 1, 1, 1, 1, 1, 0, 1, 0, 1, 1, 0, 1, 1, 0, 1, 0, 0, 1, 1,\n",
              "       1, 1, 1, 1, 1, 1, 1, 1, 1, 1, 1, 0, 1, 1, 0, 1, 0, 1, 1, 1, 1, 1,\n",
              "       1, 1, 1, 1, 1, 1, 1, 1, 1, 0, 1, 1, 1, 0, 1, 0, 1, 1, 1, 1, 0, 0,\n",
              "       0, 1, 1, 1, 1, 0, 1, 0, 1, 0, 1, 1, 1, 0, 1, 1, 1, 1, 1, 1, 1, 0,\n",
              "       0, 0, 1, 1, 1, 1, 1, 1, 1, 1, 1, 1, 1, 0, 0, 1, 0, 0, 0, 1, 0, 0,\n",
              "       1, 1, 1, 1, 1, 0, 1, 1, 1, 1, 1, 0, 1, 1, 1, 0, 1, 1, 0, 0, 1, 1,\n",
              "       1, 1, 1, 1, 0, 1, 1, 1, 1, 1, 1, 1, 0, 1, 1, 1, 1, 1, 0, 1, 1, 0,\n",
              "       1, 1, 1, 1, 1, 1, 1, 1, 1, 1, 1, 1, 0, 1, 0, 0, 1, 0, 1, 1, 1, 1,\n",
              "       1, 0, 1, 1, 0, 1, 0, 1, 1, 0, 1, 0, 1, 1, 1, 1, 1, 1, 1, 1, 0, 0,\n",
              "       1, 1, 1, 1, 1, 1, 0, 1, 1, 1, 1, 1, 1, 1, 1, 1, 1, 0, 1, 1, 1, 1,\n",
              "       1, 1, 1, 0, 1, 0, 1, 1, 0, 1, 1, 1, 1, 1, 0, 0, 1, 0, 1, 0, 1, 1,\n",
              "       1, 1, 1, 0, 1, 1, 0, 1, 0, 1, 0, 0, 1, 1, 1, 0, 1, 1, 1, 1, 1, 1,\n",
              "       1, 1, 1, 1, 1, 0, 1, 0, 0, 1, 1, 1, 1, 1, 1, 1, 1, 1, 1, 1, 1, 1,\n",
              "       1, 1, 1, 1, 1, 1, 1, 1, 1, 1, 1, 1, 0, 0, 0, 0, 0, 0, 1])"
            ]
          },
          "metadata": {},
          "execution_count": 10
        }
      ]
    },
    {
      "cell_type": "code",
      "source": [
        "data.target_names"
      ],
      "metadata": {
        "colab": {
          "base_uri": "https://localhost:8080/"
        },
        "id": "smS4sjyvHPGr",
        "outputId": "b8da4fef-7b76-4d82-b6ff-95e2b5f59423"
      },
      "execution_count": null,
      "outputs": [
        {
          "output_type": "execute_result",
          "data": {
            "text/plain": [
              "array(['malignant', 'benign'], dtype='<U9')"
            ]
          },
          "metadata": {},
          "execution_count": 11
        }
      ]
    },
    {
      "cell_type": "code",
      "source": [
        "data.feature_names"
      ],
      "metadata": {
        "colab": {
          "base_uri": "https://localhost:8080/"
        },
        "id": "yddBQOcSHTnq",
        "outputId": "2dc0b10f-06fc-434e-af64-2e87ac4b181c"
      },
      "execution_count": null,
      "outputs": [
        {
          "output_type": "execute_result",
          "data": {
            "text/plain": [
              "array(['mean radius', 'mean texture', 'mean perimeter', 'mean area',\n",
              "       'mean smoothness', 'mean compactness', 'mean concavity',\n",
              "       'mean concave points', 'mean symmetry', 'mean fractal dimension',\n",
              "       'radius error', 'texture error', 'perimeter error', 'area error',\n",
              "       'smoothness error', 'compactness error', 'concavity error',\n",
              "       'concave points error', 'symmetry error',\n",
              "       'fractal dimension error', 'worst radius', 'worst texture',\n",
              "       'worst perimeter', 'worst area', 'worst smoothness',\n",
              "       'worst compactness', 'worst concavity', 'worst concave points',\n",
              "       'worst symmetry', 'worst fractal dimension'], dtype='<U23')"
            ]
          },
          "metadata": {},
          "execution_count": 12
        }
      ]
    },
    {
      "cell_type": "code",
      "source": [
        "data.target.shape"
      ],
      "metadata": {
        "colab": {
          "base_uri": "https://localhost:8080/"
        },
        "id": "XEQ3yvo8HZWC",
        "outputId": "d659e964-9e91-41d9-f216-27904cdfab79"
      },
      "execution_count": null,
      "outputs": [
        {
          "output_type": "execute_result",
          "data": {
            "text/plain": [
              "(569,)"
            ]
          },
          "metadata": {},
          "execution_count": 13
        }
      ]
    },
    {
      "cell_type": "code",
      "source": [
        "from sklearn.model_selection import train_test_split\n",
        "X_train, X_test, y_train, y_test = train_test_split(data.data, data.target, test_size=0.33)\n",
        "N, D = X_train.shape"
      ],
      "metadata": {
        "id": "QkPye03SHdKa"
      },
      "execution_count": null,
      "outputs": []
    },
    {
      "cell_type": "code",
      "source": [
        "from sklearn.preprocessing import StandardScaler\n",
        "\n",
        "scaler = StandardScaler()\n",
        "X_train = scaler.fit_transform(X_train)\n",
        "X_test = scaler.transform(X_test)"
      ],
      "metadata": {
        "id": "uIRPuPRKHmCR"
      },
      "execution_count": null,
      "outputs": []
    },
    {
      "cell_type": "code",
      "source": [
        "model = tf.keras.models.Sequential([tf.keras.layers.Input(shape=(D,)),\n",
        "                                    tf.keras.layers.Dense(1, activation='sigmoid')\n",
        "                                    ])\n",
        "\n",
        "model.compile(optimizer='adam',\n",
        "              loss='binary_crossentropy',\n",
        "              metrics=['accuracy'])\n",
        "\n",
        "r = model.fit(X_train, y_train, validation_data=(X_test, y_test), epochs=100)\n",
        "\n",
        "print('Train score : ', model.evaluate(X_train, y_train))\n",
        "print('Test score : ', model.evaluate(X_test, y_test))"
      ],
      "metadata": {
        "colab": {
          "base_uri": "https://localhost:8080/"
        },
        "id": "jbDxaWwPI3J-",
        "outputId": "eef05385-b35d-4e9c-e078-a7bdb51d09cc"
      },
      "execution_count": null,
      "outputs": [
        {
          "output_type": "stream",
          "name": "stdout",
          "text": [
            "Epoch 1/100\n",
            "12/12 [==============================] - 1s 17ms/step - loss: 0.5951 - accuracy: 0.6903 - val_loss: 0.5453 - val_accuracy: 0.7074\n",
            "Epoch 2/100\n",
            "12/12 [==============================] - 0s 4ms/step - loss: 0.5287 - accuracy: 0.7690 - val_loss: 0.4922 - val_accuracy: 0.8032\n",
            "Epoch 3/100\n",
            "12/12 [==============================] - 0s 4ms/step - loss: 0.4729 - accuracy: 0.8425 - val_loss: 0.4488 - val_accuracy: 0.8351\n",
            "Epoch 4/100\n",
            "12/12 [==============================] - 0s 4ms/step - loss: 0.4266 - accuracy: 0.8924 - val_loss: 0.4138 - val_accuracy: 0.8617\n",
            "Epoch 5/100\n",
            "12/12 [==============================] - 0s 5ms/step - loss: 0.3888 - accuracy: 0.9213 - val_loss: 0.3851 - val_accuracy: 0.8617\n",
            "Epoch 6/100\n",
            "12/12 [==============================] - 0s 4ms/step - loss: 0.3585 - accuracy: 0.9239 - val_loss: 0.3613 - val_accuracy: 0.8723\n",
            "Epoch 7/100\n",
            "12/12 [==============================] - 0s 5ms/step - loss: 0.3325 - accuracy: 0.9370 - val_loss: 0.3414 - val_accuracy: 0.8723\n",
            "Epoch 8/100\n",
            "12/12 [==============================] - 0s 5ms/step - loss: 0.3108 - accuracy: 0.9423 - val_loss: 0.3245 - val_accuracy: 0.8830\n",
            "Epoch 9/100\n",
            "12/12 [==============================] - 0s 5ms/step - loss: 0.2923 - accuracy: 0.9475 - val_loss: 0.3100 - val_accuracy: 0.8830\n",
            "Epoch 10/100\n",
            "12/12 [==============================] - 0s 3ms/step - loss: 0.2764 - accuracy: 0.9475 - val_loss: 0.2977 - val_accuracy: 0.8883\n",
            "Epoch 11/100\n",
            "12/12 [==============================] - 0s 4ms/step - loss: 0.2625 - accuracy: 0.9475 - val_loss: 0.2870 - val_accuracy: 0.8989\n",
            "Epoch 12/100\n",
            "12/12 [==============================] - 0s 3ms/step - loss: 0.2503 - accuracy: 0.9475 - val_loss: 0.2777 - val_accuracy: 0.8989\n",
            "Epoch 13/100\n",
            "12/12 [==============================] - 0s 5ms/step - loss: 0.2394 - accuracy: 0.9475 - val_loss: 0.2690 - val_accuracy: 0.8989\n",
            "Epoch 14/100\n",
            "12/12 [==============================] - 0s 5ms/step - loss: 0.2295 - accuracy: 0.9475 - val_loss: 0.2614 - val_accuracy: 0.8989\n",
            "Epoch 15/100\n",
            "12/12 [==============================] - 0s 4ms/step - loss: 0.2206 - accuracy: 0.9501 - val_loss: 0.2545 - val_accuracy: 0.9043\n",
            "Epoch 16/100\n",
            "12/12 [==============================] - 0s 4ms/step - loss: 0.2127 - accuracy: 0.9501 - val_loss: 0.2482 - val_accuracy: 0.9043\n",
            "Epoch 17/100\n",
            "12/12 [==============================] - 0s 4ms/step - loss: 0.2052 - accuracy: 0.9501 - val_loss: 0.2426 - val_accuracy: 0.9043\n",
            "Epoch 18/100\n",
            "12/12 [==============================] - 0s 4ms/step - loss: 0.1984 - accuracy: 0.9501 - val_loss: 0.2374 - val_accuracy: 0.9096\n",
            "Epoch 19/100\n",
            "12/12 [==============================] - 0s 5ms/step - loss: 0.1922 - accuracy: 0.9501 - val_loss: 0.2326 - val_accuracy: 0.9096\n",
            "Epoch 20/100\n",
            "12/12 [==============================] - 0s 4ms/step - loss: 0.1863 - accuracy: 0.9501 - val_loss: 0.2282 - val_accuracy: 0.9096\n",
            "Epoch 21/100\n",
            "12/12 [==============================] - 0s 4ms/step - loss: 0.1809 - accuracy: 0.9528 - val_loss: 0.2243 - val_accuracy: 0.9096\n",
            "Epoch 22/100\n",
            "12/12 [==============================] - 0s 4ms/step - loss: 0.1759 - accuracy: 0.9528 - val_loss: 0.2205 - val_accuracy: 0.9096\n",
            "Epoch 23/100\n",
            "12/12 [==============================] - 0s 3ms/step - loss: 0.1713 - accuracy: 0.9528 - val_loss: 0.2171 - val_accuracy: 0.9202\n",
            "Epoch 24/100\n",
            "12/12 [==============================] - 0s 5ms/step - loss: 0.1669 - accuracy: 0.9528 - val_loss: 0.2136 - val_accuracy: 0.9202\n",
            "Epoch 25/100\n",
            "12/12 [==============================] - 0s 4ms/step - loss: 0.1626 - accuracy: 0.9528 - val_loss: 0.2106 - val_accuracy: 0.9202\n",
            "Epoch 26/100\n",
            "12/12 [==============================] - 0s 5ms/step - loss: 0.1586 - accuracy: 0.9554 - val_loss: 0.2079 - val_accuracy: 0.9202\n",
            "Epoch 27/100\n",
            "12/12 [==============================] - 0s 5ms/step - loss: 0.1550 - accuracy: 0.9580 - val_loss: 0.2052 - val_accuracy: 0.9202\n",
            "Epoch 28/100\n",
            "12/12 [==============================] - 0s 4ms/step - loss: 0.1515 - accuracy: 0.9580 - val_loss: 0.2027 - val_accuracy: 0.9255\n",
            "Epoch 29/100\n",
            "12/12 [==============================] - 0s 5ms/step - loss: 0.1482 - accuracy: 0.9606 - val_loss: 0.2004 - val_accuracy: 0.9255\n",
            "Epoch 30/100\n",
            "12/12 [==============================] - 0s 4ms/step - loss: 0.1450 - accuracy: 0.9606 - val_loss: 0.1982 - val_accuracy: 0.9255\n",
            "Epoch 31/100\n",
            "12/12 [==============================] - 0s 4ms/step - loss: 0.1420 - accuracy: 0.9606 - val_loss: 0.1960 - val_accuracy: 0.9255\n",
            "Epoch 32/100\n",
            "12/12 [==============================] - 0s 4ms/step - loss: 0.1392 - accuracy: 0.9606 - val_loss: 0.1942 - val_accuracy: 0.9255\n",
            "Epoch 33/100\n",
            "12/12 [==============================] - 0s 5ms/step - loss: 0.1365 - accuracy: 0.9606 - val_loss: 0.1922 - val_accuracy: 0.9255\n",
            "Epoch 34/100\n",
            "12/12 [==============================] - 0s 4ms/step - loss: 0.1338 - accuracy: 0.9606 - val_loss: 0.1906 - val_accuracy: 0.9255\n",
            "Epoch 35/100\n",
            "12/12 [==============================] - 0s 4ms/step - loss: 0.1315 - accuracy: 0.9606 - val_loss: 0.1890 - val_accuracy: 0.9255\n",
            "Epoch 36/100\n",
            "12/12 [==============================] - 0s 4ms/step - loss: 0.1290 - accuracy: 0.9606 - val_loss: 0.1872 - val_accuracy: 0.9255\n",
            "Epoch 37/100\n",
            "12/12 [==============================] - 0s 5ms/step - loss: 0.1268 - accuracy: 0.9606 - val_loss: 0.1856 - val_accuracy: 0.9255\n",
            "Epoch 38/100\n",
            "12/12 [==============================] - 0s 4ms/step - loss: 0.1246 - accuracy: 0.9606 - val_loss: 0.1842 - val_accuracy: 0.9255\n",
            "Epoch 39/100\n",
            "12/12 [==============================] - 0s 4ms/step - loss: 0.1225 - accuracy: 0.9633 - val_loss: 0.1828 - val_accuracy: 0.9255\n",
            "Epoch 40/100\n",
            "12/12 [==============================] - 0s 5ms/step - loss: 0.1205 - accuracy: 0.9633 - val_loss: 0.1816 - val_accuracy: 0.9255\n",
            "Epoch 41/100\n",
            "12/12 [==============================] - 0s 4ms/step - loss: 0.1186 - accuracy: 0.9633 - val_loss: 0.1803 - val_accuracy: 0.9255\n",
            "Epoch 42/100\n",
            "12/12 [==============================] - 0s 4ms/step - loss: 0.1167 - accuracy: 0.9633 - val_loss: 0.1791 - val_accuracy: 0.9255\n",
            "Epoch 43/100\n",
            "12/12 [==============================] - 0s 5ms/step - loss: 0.1150 - accuracy: 0.9659 - val_loss: 0.1781 - val_accuracy: 0.9255\n",
            "Epoch 44/100\n",
            "12/12 [==============================] - 0s 4ms/step - loss: 0.1132 - accuracy: 0.9659 - val_loss: 0.1770 - val_accuracy: 0.9255\n",
            "Epoch 45/100\n",
            "12/12 [==============================] - 0s 5ms/step - loss: 0.1116 - accuracy: 0.9659 - val_loss: 0.1760 - val_accuracy: 0.9255\n",
            "Epoch 46/100\n",
            "12/12 [==============================] - 0s 6ms/step - loss: 0.1100 - accuracy: 0.9659 - val_loss: 0.1749 - val_accuracy: 0.9255\n",
            "Epoch 47/100\n",
            "12/12 [==============================] - 0s 4ms/step - loss: 0.1085 - accuracy: 0.9659 - val_loss: 0.1741 - val_accuracy: 0.9255\n",
            "Epoch 48/100\n",
            "12/12 [==============================] - 0s 5ms/step - loss: 0.1070 - accuracy: 0.9659 - val_loss: 0.1731 - val_accuracy: 0.9255\n",
            "Epoch 49/100\n",
            "12/12 [==============================] - 0s 4ms/step - loss: 0.1055 - accuracy: 0.9685 - val_loss: 0.1722 - val_accuracy: 0.9362\n",
            "Epoch 50/100\n",
            "12/12 [==============================] - 0s 4ms/step - loss: 0.1042 - accuracy: 0.9685 - val_loss: 0.1713 - val_accuracy: 0.9362\n",
            "Epoch 51/100\n",
            "12/12 [==============================] - 0s 4ms/step - loss: 0.1029 - accuracy: 0.9685 - val_loss: 0.1705 - val_accuracy: 0.9362\n",
            "Epoch 52/100\n",
            "12/12 [==============================] - 0s 4ms/step - loss: 0.1015 - accuracy: 0.9685 - val_loss: 0.1697 - val_accuracy: 0.9362\n",
            "Epoch 53/100\n",
            "12/12 [==============================] - 0s 5ms/step - loss: 0.1003 - accuracy: 0.9685 - val_loss: 0.1690 - val_accuracy: 0.9362\n",
            "Epoch 54/100\n",
            "12/12 [==============================] - 0s 4ms/step - loss: 0.0991 - accuracy: 0.9685 - val_loss: 0.1682 - val_accuracy: 0.9362\n",
            "Epoch 55/100\n",
            "12/12 [==============================] - 0s 4ms/step - loss: 0.0978 - accuracy: 0.9711 - val_loss: 0.1675 - val_accuracy: 0.9362\n",
            "Epoch 56/100\n",
            "12/12 [==============================] - 0s 5ms/step - loss: 0.0968 - accuracy: 0.9711 - val_loss: 0.1669 - val_accuracy: 0.9415\n",
            "Epoch 57/100\n",
            "12/12 [==============================] - 0s 4ms/step - loss: 0.0956 - accuracy: 0.9711 - val_loss: 0.1662 - val_accuracy: 0.9415\n",
            "Epoch 58/100\n",
            "12/12 [==============================] - 0s 4ms/step - loss: 0.0945 - accuracy: 0.9711 - val_loss: 0.1656 - val_accuracy: 0.9415\n",
            "Epoch 59/100\n",
            "12/12 [==============================] - 0s 5ms/step - loss: 0.0935 - accuracy: 0.9711 - val_loss: 0.1651 - val_accuracy: 0.9415\n",
            "Epoch 60/100\n",
            "12/12 [==============================] - 0s 4ms/step - loss: 0.0924 - accuracy: 0.9711 - val_loss: 0.1645 - val_accuracy: 0.9415\n",
            "Epoch 61/100\n",
            "12/12 [==============================] - 0s 4ms/step - loss: 0.0915 - accuracy: 0.9711 - val_loss: 0.1639 - val_accuracy: 0.9415\n",
            "Epoch 62/100\n",
            "12/12 [==============================] - 0s 4ms/step - loss: 0.0905 - accuracy: 0.9711 - val_loss: 0.1633 - val_accuracy: 0.9415\n",
            "Epoch 63/100\n",
            "12/12 [==============================] - 0s 4ms/step - loss: 0.0896 - accuracy: 0.9711 - val_loss: 0.1628 - val_accuracy: 0.9415\n",
            "Epoch 64/100\n",
            "12/12 [==============================] - 0s 4ms/step - loss: 0.0886 - accuracy: 0.9711 - val_loss: 0.1623 - val_accuracy: 0.9415\n",
            "Epoch 65/100\n",
            "12/12 [==============================] - 0s 5ms/step - loss: 0.0877 - accuracy: 0.9711 - val_loss: 0.1619 - val_accuracy: 0.9415\n",
            "Epoch 66/100\n",
            "12/12 [==============================] - 0s 5ms/step - loss: 0.0869 - accuracy: 0.9711 - val_loss: 0.1615 - val_accuracy: 0.9415\n",
            "Epoch 67/100\n",
            "12/12 [==============================] - 0s 5ms/step - loss: 0.0860 - accuracy: 0.9711 - val_loss: 0.1611 - val_accuracy: 0.9415\n",
            "Epoch 68/100\n",
            "12/12 [==============================] - 0s 5ms/step - loss: 0.0852 - accuracy: 0.9711 - val_loss: 0.1606 - val_accuracy: 0.9415\n",
            "Epoch 69/100\n",
            "12/12 [==============================] - 0s 5ms/step - loss: 0.0844 - accuracy: 0.9711 - val_loss: 0.1600 - val_accuracy: 0.9415\n",
            "Epoch 70/100\n",
            "12/12 [==============================] - 0s 4ms/step - loss: 0.0836 - accuracy: 0.9738 - val_loss: 0.1597 - val_accuracy: 0.9415\n",
            "Epoch 71/100\n",
            "12/12 [==============================] - 0s 4ms/step - loss: 0.0828 - accuracy: 0.9738 - val_loss: 0.1592 - val_accuracy: 0.9415\n",
            "Epoch 72/100\n",
            "12/12 [==============================] - 0s 4ms/step - loss: 0.0821 - accuracy: 0.9764 - val_loss: 0.1589 - val_accuracy: 0.9415\n",
            "Epoch 73/100\n",
            "12/12 [==============================] - 0s 4ms/step - loss: 0.0813 - accuracy: 0.9764 - val_loss: 0.1586 - val_accuracy: 0.9415\n",
            "Epoch 74/100\n",
            "12/12 [==============================] - 0s 4ms/step - loss: 0.0806 - accuracy: 0.9764 - val_loss: 0.1582 - val_accuracy: 0.9415\n",
            "Epoch 75/100\n",
            "12/12 [==============================] - 0s 4ms/step - loss: 0.0799 - accuracy: 0.9764 - val_loss: 0.1578 - val_accuracy: 0.9415\n",
            "Epoch 76/100\n",
            "12/12 [==============================] - 0s 4ms/step - loss: 0.0792 - accuracy: 0.9764 - val_loss: 0.1574 - val_accuracy: 0.9415\n",
            "Epoch 77/100\n",
            "12/12 [==============================] - 0s 4ms/step - loss: 0.0785 - accuracy: 0.9790 - val_loss: 0.1571 - val_accuracy: 0.9415\n",
            "Epoch 78/100\n",
            "12/12 [==============================] - 0s 3ms/step - loss: 0.0779 - accuracy: 0.9790 - val_loss: 0.1567 - val_accuracy: 0.9415\n",
            "Epoch 79/100\n",
            "12/12 [==============================] - 0s 5ms/step - loss: 0.0772 - accuracy: 0.9790 - val_loss: 0.1565 - val_accuracy: 0.9415\n",
            "Epoch 80/100\n",
            "12/12 [==============================] - 0s 4ms/step - loss: 0.0766 - accuracy: 0.9790 - val_loss: 0.1561 - val_accuracy: 0.9415\n",
            "Epoch 81/100\n",
            "12/12 [==============================] - 0s 4ms/step - loss: 0.0760 - accuracy: 0.9790 - val_loss: 0.1559 - val_accuracy: 0.9415\n",
            "Epoch 82/100\n",
            "12/12 [==============================] - 0s 3ms/step - loss: 0.0754 - accuracy: 0.9790 - val_loss: 0.1556 - val_accuracy: 0.9415\n",
            "Epoch 83/100\n",
            "12/12 [==============================] - 0s 5ms/step - loss: 0.0748 - accuracy: 0.9790 - val_loss: 0.1554 - val_accuracy: 0.9415\n",
            "Epoch 84/100\n",
            "12/12 [==============================] - 0s 5ms/step - loss: 0.0742 - accuracy: 0.9790 - val_loss: 0.1551 - val_accuracy: 0.9415\n",
            "Epoch 85/100\n",
            "12/12 [==============================] - 0s 5ms/step - loss: 0.0736 - accuracy: 0.9790 - val_loss: 0.1548 - val_accuracy: 0.9415\n",
            "Epoch 86/100\n",
            "12/12 [==============================] - 0s 4ms/step - loss: 0.0730 - accuracy: 0.9790 - val_loss: 0.1545 - val_accuracy: 0.9415\n",
            "Epoch 87/100\n",
            "12/12 [==============================] - 0s 6ms/step - loss: 0.0725 - accuracy: 0.9790 - val_loss: 0.1544 - val_accuracy: 0.9415\n",
            "Epoch 88/100\n",
            "12/12 [==============================] - 0s 4ms/step - loss: 0.0720 - accuracy: 0.9790 - val_loss: 0.1540 - val_accuracy: 0.9415\n",
            "Epoch 89/100\n",
            "12/12 [==============================] - 0s 4ms/step - loss: 0.0714 - accuracy: 0.9790 - val_loss: 0.1539 - val_accuracy: 0.9415\n",
            "Epoch 90/100\n",
            "12/12 [==============================] - 0s 4ms/step - loss: 0.0709 - accuracy: 0.9790 - val_loss: 0.1537 - val_accuracy: 0.9415\n",
            "Epoch 91/100\n",
            "12/12 [==============================] - 0s 4ms/step - loss: 0.0704 - accuracy: 0.9790 - val_loss: 0.1534 - val_accuracy: 0.9415\n",
            "Epoch 92/100\n",
            "12/12 [==============================] - 0s 5ms/step - loss: 0.0699 - accuracy: 0.9790 - val_loss: 0.1532 - val_accuracy: 0.9468\n",
            "Epoch 93/100\n",
            "12/12 [==============================] - 0s 4ms/step - loss: 0.0694 - accuracy: 0.9790 - val_loss: 0.1530 - val_accuracy: 0.9468\n",
            "Epoch 94/100\n",
            "12/12 [==============================] - 0s 4ms/step - loss: 0.0689 - accuracy: 0.9790 - val_loss: 0.1528 - val_accuracy: 0.9468\n",
            "Epoch 95/100\n",
            "12/12 [==============================] - 0s 4ms/step - loss: 0.0685 - accuracy: 0.9790 - val_loss: 0.1526 - val_accuracy: 0.9468\n",
            "Epoch 96/100\n",
            "12/12 [==============================] - 0s 4ms/step - loss: 0.0680 - accuracy: 0.9790 - val_loss: 0.1523 - val_accuracy: 0.9468\n",
            "Epoch 97/100\n",
            "12/12 [==============================] - 0s 5ms/step - loss: 0.0675 - accuracy: 0.9790 - val_loss: 0.1522 - val_accuracy: 0.9468\n",
            "Epoch 98/100\n",
            "12/12 [==============================] - 0s 4ms/step - loss: 0.0671 - accuracy: 0.9790 - val_loss: 0.1520 - val_accuracy: 0.9521\n",
            "Epoch 99/100\n",
            "12/12 [==============================] - 0s 4ms/step - loss: 0.0666 - accuracy: 0.9790 - val_loss: 0.1518 - val_accuracy: 0.9521\n",
            "Epoch 100/100\n",
            "12/12 [==============================] - 0s 4ms/step - loss: 0.0662 - accuracy: 0.9790 - val_loss: 0.1516 - val_accuracy: 0.9521\n",
            "12/12 [==============================] - 0s 2ms/step - loss: 0.0659 - accuracy: 0.9790\n",
            "Train score :  [0.06594165414571762, 0.9790025949478149]\n",
            "6/6 [==============================] - 0s 2ms/step - loss: 0.1516 - accuracy: 0.9521\n",
            "Test score :  [0.15164335072040558, 0.9521276354789734]\n"
          ]
        }
      ]
    },
    {
      "cell_type": "code",
      "source": [
        "import matplotlib.pyplot as plt\n",
        "plt.plot(r.history['loss'], label='loss')\n",
        "plt.plot(r.history['val_loss'], label='val_loss')\n",
        "plt.legend()"
      ],
      "metadata": {
        "colab": {
          "base_uri": "https://localhost:8080/",
          "height": 282
        },
        "id": "VPyd4GXXKr3E",
        "outputId": "863263d0-2c2b-48e5-e78a-f6f6d04b579b"
      },
      "execution_count": null,
      "outputs": [
        {
          "output_type": "execute_result",
          "data": {
            "text/plain": [
              "<matplotlib.legend.Legend at 0x7f9359d047d0>"
            ]
          },
          "metadata": {},
          "execution_count": 28
        },
        {
          "output_type": "display_data",
          "data": {
            "text/plain": [
              "<Figure size 432x288 with 1 Axes>"
            ],
            "image/png": "[encoded data removed]"
          },
          "metadata": {
            "needs_background": "light"
          }
        }
      ]
    },
    {
      "cell_type": "code",
      "source": [
        "plt.plot(r.history['accuracy'], label='acc')\n",
        "plt.plot(r.history['val_accuracy'], label='val_acc')\n",
        "plt.legend()"
      ],
      "metadata": {
        "colab": {
          "base_uri": "https://localhost:8080/",
          "height": 282
        },
        "id": "nnyIuMFGLMFA",
        "outputId": "b1a11624-109f-4a2a-c0d1-5261b3a8afdf"
      },
      "execution_count": null,
      "outputs": [
        {
          "output_type": "execute_result",
          "data": {
            "text/plain": [
              "<matplotlib.legend.Legend at 0x7f9359e47d50>"
            ]
          },
          "metadata": {},
          "execution_count": 29
        },
        {
          "output_type": "display_data",
          "data": {
            "text/plain": [
              "<Figure size 432x288 with 1 Axes>"
            ],
            "image/png": "[encoded data removed]"
          },
          "metadata": {
            "needs_background": "light"
          }
        }
      ]
    },
    {
      "cell_type": "code",
      "source": [
        "P = model.predict(X_test)\n",
        "print(P)"
      ],
      "metadata": {
        "colab": {
          "base_uri": "https://localhost:8080/"
        },
        "id": "I3OWWeCTMfcR",
        "outputId": "23156ad3-73dd-4e04-9565-ac6fdf0f8d5e"
      },
      "execution_count": null,
      "outputs": [
        {
          "output_type": "stream",
          "name": "stdout",
          "text": [
            "[[9.9615300e-01]\n",
            " [9.9835199e-01]\n",
            " [1.0321635e-06]\n",
            " [9.1292310e-01]\n",
            " [7.8441885e-14]\n",
            " [9.9970704e-01]\n",
            " [8.6030245e-01]\n",
            " [9.7612387e-01]\n",
            " [9.9934202e-01]\n",
            " [9.9731123e-01]\n",
            " [9.3930453e-01]\n",
            " [9.9042594e-01]\n",
            " [4.0304661e-04]\n",
            " [2.0031035e-03]\n",
            " [5.1334500e-04]\n",
            " [9.9777865e-01]\n",
            " [9.9867100e-01]\n",
            " [9.9957037e-01]\n",
            " [9.9895233e-01]\n",
            " [9.5497096e-01]\n",
            " [9.9270642e-01]\n",
            " [8.0127764e-01]\n",
            " [5.7864934e-02]\n",
            " [4.0639013e-02]\n",
            " [9.7748375e-01]\n",
            " [7.2359955e-01]\n",
            " [9.9676180e-01]\n",
            " [7.8821683e-01]\n",
            " [7.3851913e-02]\n",
            " [3.6575049e-02]\n",
            " [9.8272109e-01]\n",
            " [9.1253257e-01]\n",
            " [2.4302304e-03]\n",
            " [9.7363126e-01]\n",
            " [9.9151379e-01]\n",
            " [2.0248255e-01]\n",
            " [9.9398875e-01]\n",
            " [9.6737242e-01]\n",
            " [9.9995542e-01]\n",
            " [8.0379844e-04]\n",
            " [9.6169519e-01]\n",
            " [4.0115982e-01]\n",
            " [9.9957603e-01]\n",
            " [8.9446545e-01]\n",
            " [9.9260783e-01]\n",
            " [9.5695066e-01]\n",
            " [3.0394301e-01]\n",
            " [8.9742213e-02]\n",
            " [1.0451922e-04]\n",
            " [9.4292891e-01]\n",
            " [2.8702617e-04]\n",
            " [2.7585138e-08]\n",
            " [9.9298823e-01]\n",
            " [4.1689125e-01]\n",
            " [9.9651140e-01]\n",
            " [9.9793458e-01]\n",
            " [9.9933571e-01]\n",
            " [1.4761984e-03]\n",
            " [9.5086986e-01]\n",
            " [4.9703234e-01]\n",
            " [3.6724806e-03]\n",
            " [9.9937618e-01]\n",
            " [8.4576011e-04]\n",
            " [8.9579493e-01]\n",
            " [9.9933934e-01]\n",
            " [5.1152050e-01]\n",
            " [9.8700225e-01]\n",
            " [9.9933267e-01]\n",
            " [2.0309092e-06]\n",
            " [6.9177240e-02]\n",
            " [1.4838699e-01]\n",
            " [1.9014994e-06]\n",
            " [2.2428930e-03]\n",
            " [9.8149157e-01]\n",
            " [9.9948055e-01]\n",
            " [2.5830873e-09]\n",
            " [6.8285364e-01]\n",
            " [9.8501611e-01]\n",
            " [9.8652601e-01]\n",
            " [6.1129534e-01]\n",
            " [9.9939579e-01]\n",
            " [9.8940843e-01]\n",
            " [9.6868289e-01]\n",
            " [9.6836233e-01]\n",
            " [9.9160874e-01]\n",
            " [9.9950528e-01]\n",
            " [1.8098950e-04]\n",
            " [9.9928856e-01]\n",
            " [9.2314708e-01]\n",
            " [1.6328102e-01]\n",
            " [1.4546514e-03]\n",
            " [2.2519962e-06]\n",
            " [5.7658553e-04]\n",
            " [3.5202665e-05]\n",
            " [2.1132678e-02]\n",
            " [4.6158325e-06]\n",
            " [9.9574447e-01]\n",
            " [8.9264375e-01]\n",
            " [9.9989855e-01]\n",
            " [9.7224039e-01]\n",
            " [8.4653759e-01]\n",
            " [1.8823147e-04]\n",
            " [9.6159297e-01]\n",
            " [5.3733811e-06]\n",
            " [9.9855745e-01]\n",
            " [9.9378169e-01]\n",
            " [9.7713077e-01]\n",
            " [4.6679556e-02]\n",
            " [9.9926162e-01]\n",
            " [9.9981499e-01]\n",
            " [5.5406451e-01]\n",
            " [9.9960661e-01]\n",
            " [8.6448765e-01]\n",
            " [9.9757993e-01]\n",
            " [9.8403847e-01]\n",
            " [2.3107639e-05]\n",
            " [9.8394996e-01]\n",
            " [1.3911724e-04]\n",
            " [9.3463445e-01]\n",
            " [6.1874944e-01]\n",
            " [9.9816549e-01]\n",
            " [9.8780090e-01]\n",
            " [8.1694126e-04]\n",
            " [1.5561342e-02]\n",
            " [1.5937984e-02]\n",
            " [9.7733045e-01]\n",
            " [9.9130797e-01]\n",
            " [9.4881654e-04]\n",
            " [9.9587959e-01]\n",
            " [3.8048625e-04]\n",
            " [6.7321908e-01]\n",
            " [9.8887289e-01]\n",
            " [4.3278933e-04]\n",
            " [4.4500379e-05]\n",
            " [9.9884313e-01]\n",
            " [9.9675417e-01]\n",
            " [7.7993745e-01]\n",
            " [9.9977213e-01]\n",
            " [9.9521542e-01]\n",
            " [9.9836963e-01]\n",
            " [1.1178285e-02]\n",
            " [9.5558774e-01]\n",
            " [9.9482572e-01]\n",
            " [1.9858292e-01]\n",
            " [2.7486682e-04]\n",
            " [9.9537331e-01]\n",
            " [8.8614225e-03]\n",
            " [9.8094499e-01]\n",
            " [9.8959124e-01]\n",
            " [9.4091493e-01]\n",
            " [9.9969280e-01]\n",
            " [9.9906886e-01]\n",
            " [9.9374998e-01]\n",
            " [9.9630964e-01]\n",
            " [9.9244285e-01]\n",
            " [9.2038471e-01]\n",
            " [3.6922290e-06]\n",
            " [8.4256041e-01]\n",
            " [9.8153692e-01]\n",
            " [9.9573135e-01]\n",
            " [8.3055270e-01]\n",
            " [9.9769473e-01]\n",
            " [9.9509931e-01]\n",
            " [9.9850786e-01]\n",
            " [9.8021239e-01]\n",
            " [5.6924558e-01]\n",
            " [9.7546756e-01]\n",
            " [2.6017427e-04]\n",
            " [5.2405840e-01]\n",
            " [9.9877328e-01]\n",
            " [8.8661581e-01]\n",
            " [9.7111666e-01]\n",
            " [9.4514167e-01]\n",
            " [9.9839103e-01]\n",
            " [9.6431845e-01]\n",
            " [2.2983551e-03]\n",
            " [9.9957097e-01]\n",
            " [8.4791148e-01]\n",
            " [9.9877769e-01]\n",
            " [9.9940038e-01]\n",
            " [9.9803478e-01]\n",
            " [9.9889135e-01]\n",
            " [3.0920017e-01]\n",
            " [6.6989080e-05]\n",
            " [9.9196243e-01]\n",
            " [9.9470770e-01]\n",
            " [9.9985927e-01]\n",
            " [2.5020174e-07]]\n"
          ]
        }
      ]
    },
    {
      "cell_type": "code",
      "source": [
        "import numpy as np\n",
        "P = np.round(P).flatten()\n",
        "print(P)"
      ],
      "metadata": {
        "colab": {
          "base_uri": "https://localhost:8080/"
        },
        "id": "BqCECaI6QUdF",
        "outputId": "075c9b0b-efbe-4bbc-896d-218d2e4370f2"
      },
      "execution_count": null,
      "outputs": [
        {
          "output_type": "stream",
          "name": "stdout",
          "text": [
            "[1. 1. 0. 1. 0. 1. 1. 1. 1. 1. 1. 1. 0. 0. 0. 1. 1. 1. 1. 1. 1. 1. 0. 0.\n",
            " 1. 1. 1. 1. 0. 0. 1. 1. 0. 1. 1. 0. 1. 1. 1. 0. 1. 0. 1. 1. 1. 1. 0. 0.\n",
            " 0. 1. 0. 0. 1. 0. 1. 1. 1. 0. 1. 0. 0. 1. 0. 1. 1. 1. 1. 1. 0. 0. 0. 0.\n",
            " 0. 1. 1. 0. 1. 1. 1. 1. 1. 1. 1. 1. 1. 1. 0. 1. 1. 0. 0. 0. 0. 0. 0. 0.\n",
            " 1. 1. 1. 1. 1. 0. 1. 0. 1. 1. 1. 0. 1. 1. 1. 1. 1. 1. 1. 0. 1. 0. 1. 1.\n",
            " 1. 1. 0. 0. 0. 1. 1. 0. 1. 0. 1. 1. 0. 0. 1. 1. 1. 1. 1. 1. 0. 1. 1. 0.\n",
            " 0. 1. 0. 1. 1. 1. 1. 1. 1. 1. 1. 1. 0. 1. 1. 1. 1. 1. 1. 1. 1. 1. 1. 0.\n",
            " 1. 1. 1. 1. 1. 1. 1. 0. 1. 1. 1. 1. 1. 1. 0. 0. 1. 1. 1. 0.]\n"
          ]
        }
      ]
    },
    {
      "cell_type": "code",
      "source": [
        "print(\"Manually calculated accuracy : \", np.mean(P==y_test))\n",
        "print(\"Evaluate output\", model.evaluate(X_test, y_test))"
      ],
      "metadata": {
        "colab": {
          "base_uri": "https://localhost:8080/"
        },
        "id": "0nlZoiSSQlyx",
        "outputId": "729e73f2-c274-4029-b81d-a852769e0953"
      },
      "execution_count": null,
      "outputs": [
        {
          "output_type": "stream",
          "name": "stdout",
          "text": [
            "Manually calculated accuracy :  0.9521276595744681\n",
            "6/6 [==============================] - 0s 2ms/step - loss: 0.1516 - accuracy: 0.9521\n",
            "Evaluate output [0.15164335072040558, 0.9521276354789734]\n"
          ]
        }
      ]
    },
    {
      "cell_type": "code",
      "source": [],
      "metadata": {
        "id": "yYlUsMAHRGNE"
      },
      "execution_count": null,
      "outputs": []
    }
  ]
}